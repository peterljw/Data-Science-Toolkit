{
 "cells": [
  {
   "cell_type": "markdown",
   "metadata": {},
   "source": [
    "# Time-Series"
   ]
  },
  {
   "cell_type": "markdown",
   "metadata": {},
   "source": [
    "ARIMA models involve the notions of **stationarity**, **differencing**, **autoregressive models**, and **moving average\n",
    "models**. \n",
    "\n",
    "An ARIMA model assumes that the input time-series data is univariate and stationary. **Stationarity** implies that the time series’ properties are independent of the time when they were captured. Additionally, the data has a constant mean and variance; otherwise they need to be transformed before one can use the ARIMA model. \n",
    "\n",
    "Such a transformation process is called **differencing**, and the appropriate order of differencing can be determined by using methods such as the Kwiatkowski-Phillips- Schmidt-Shin (KPSS) test. Differencing is a process of computing the differences between consecutive observations. It has the function of stabilizing the mean of a time series by removing changes in the level of a time series, and therefore reducing trend and seasonality."
   ]
  },
  {
   "cell_type": "markdown",
   "metadata": {},
   "source": [
    "## Autoregressive Models"
   ]
  },
  {
   "cell_type": "markdown",
   "metadata": {},
   "source": [
    "In a multiple regression model, we forecast the variable of interest using a linear combination of predictors. In an autoregression model, we forecast the variable of interest using a linear combination of past values of the variable.\n",
    "\n",
    "\n",
    "This is like a multiple regression but with lagged values of yt as predictors. We refer to this as an AR(p) model, an autoregressive model of order p."
   ]
  },
  {
   "cell_type": "markdown",
   "metadata": {},
   "source": [
    "## Moving Average Models"
   ]
  },
  {
   "cell_type": "markdown",
   "metadata": {},
   "source": [
    "In contrast, rather than using past values of the forecast variable in a\n",
    "regression, a moving average model uses past forecast errors in a regression-like model.\n",
    "\n",
    "We refer to this as an MA(q) model, a moving average model of order q."
   ]
  },
  {
   "cell_type": "markdown",
   "metadata": {},
   "source": [
    "## Non-seasonal ARIMA Models"
   ]
  },
  {
   "cell_type": "markdown",
   "metadata": {},
   "source": [
    "If we combine differencing with autoregression and a moving average model, we obtain a non-seasonal ARIMA model. ARIMA is an acronym for AutoRegressive Integrated Moving Average (in this context, “integration” is the reverse of differencing). The full model can be written as"
   ]
  },
  {
   "cell_type": "code",
   "execution_count": null,
   "metadata": {},
   "outputs": [],
   "source": []
  }
 ],
 "metadata": {
  "kernelspec": {
   "display_name": "Python 3",
   "language": "python",
   "name": "python3"
  },
  "language_info": {
   "codemirror_mode": {
    "name": "ipython",
    "version": 3
   },
   "file_extension": ".py",
   "mimetype": "text/x-python",
   "name": "python",
   "nbconvert_exporter": "python",
   "pygments_lexer": "ipython3",
   "version": "3.6.8"
  }
 },
 "nbformat": 4,
 "nbformat_minor": 2
}
