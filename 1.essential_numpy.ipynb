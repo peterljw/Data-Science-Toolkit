{
 "cells": [
  {
   "cell_type": "markdown",
   "metadata": {},
   "source": [
    "## Essential Numpy\n",
    "\n",
    "1. Intro to Numpy\n",
    "2. Initialization\n",
    "3. Access\n",
    "4. Splitting\n",
    "5. Concatenation\n",
    "6. Dimension, Shape, and Size\n",
    "7. Reshaping\n",
    "8. Utility Functions\n",
    "9. Broadcasting"
   ]
  },
  {
   "cell_type": "markdown",
   "metadata": {},
   "source": [
    "### 1. Intro to Numpy\n",
    "\n",
    "- N-dim array for fast mathematical calculation\n",
    "- Homogeneous data structure\n",
    "- Written in C/C++\n",
    "- Scikit-learn is implemented using this\n",
    "- Python List is generalized and thus slower"
   ]
  },
  {
   "cell_type": "code",
   "execution_count": null,
   "metadata": {},
   "outputs": [],
   "source": [
    "import numpy as np"
   ]
  },
  {
   "cell_type": "markdown",
   "metadata": {},
   "source": [
    "### 2. Initialization\n",
    "\n",
    "**Size** is important for all of the following initializations.\n",
    "\n",
    "- array: user-specified values\n",
    "- zeros: initialized with zero values\n",
    "- ones: initialized with one values\n",
    "- empty: uninitialized array (contains garbage value)\n",
    "- random: different methods to initialize random values\n",
    "- arrange: a sequence of numbers based on start, end, by numbers\n",
    "- linspace: generate equally spaced numbers between start & stop numbers"
   ]
  },
  {
   "cell_type": "code",
   "execution_count": 28,
   "metadata": {},
   "outputs": [
    {
     "data": {
      "text/plain": [
       "array([1, 2, 3, 4, 5, 6])"
      ]
     },
     "execution_count": 28,
     "metadata": {},
     "output_type": "execute_result"
    }
   ],
   "source": [
    "np.array([1,2,3,4,5,6])"
   ]
  },
  {
   "cell_type": "code",
   "execution_count": 31,
   "metadata": {},
   "outputs": [
    {
     "data": {
      "text/plain": [
       "array([[1, 2, 3],\n",
       "       [2, 5, 6]])"
      ]
     },
     "execution_count": 31,
     "metadata": {},
     "output_type": "execute_result"
    }
   ],
   "source": [
    "np.array([[1,2,3],[2,5,6]])"
   ]
  },
  {
   "cell_type": "code",
   "execution_count": 8,
   "metadata": {},
   "outputs": [
    {
     "data": {
      "text/plain": [
       "array([0., 0., 0., 0., 0.])"
      ]
     },
     "execution_count": 8,
     "metadata": {},
     "output_type": "execute_result"
    }
   ],
   "source": [
    "np.zeros(shape=5)"
   ]
  },
  {
   "cell_type": "code",
   "execution_count": 15,
   "metadata": {},
   "outputs": [
    {
     "data": {
      "text/plain": [
       "array([[1., 1.],\n",
       "       [1., 1.]])"
      ]
     },
     "execution_count": 15,
     "metadata": {},
     "output_type": "execute_result"
    }
   ],
   "source": [
    "np.ones(shape=(2,2))"
   ]
  },
  {
   "cell_type": "code",
   "execution_count": 10,
   "metadata": {
    "scrolled": true
   },
   "outputs": [
    {
     "data": {
      "text/plain": [
       "array([[[1.91931677e-076, 5.04621361e+180],\n",
       "        [8.37170571e-144, 4.50617634e-144]],\n",
       "\n",
       "       [[4.27255699e+180, 6.12033286e+257],\n",
       "        [3.83819517e+151, 2.47184823e-056]]])"
      ]
     },
     "execution_count": 10,
     "metadata": {},
     "output_type": "execute_result"
    }
   ],
   "source": [
    "np.empty(shape=(2,2,2))"
   ]
  },
  {
   "cell_type": "code",
   "execution_count": 23,
   "metadata": {
    "scrolled": true
   },
   "outputs": [
    {
     "data": {
      "text/plain": [
       "array([[[[0.11810756, 0.09233453],\n",
       "         [0.05316151, 0.62446039]],\n",
       "\n",
       "        [[0.55258034, 0.69619733],\n",
       "         [0.95695035, 0.30415888]]],\n",
       "\n",
       "\n",
       "       [[[0.8241276 , 0.67356836],\n",
       "         [0.97802539, 0.413997  ]],\n",
       "\n",
       "        [[0.93493049, 0.12489635],\n",
       "         [0.64610544, 0.19433453]]]])"
      ]
     },
     "execution_count": 23,
     "metadata": {},
     "output_type": "execute_result"
    }
   ],
   "source": [
    "# shape is the parameter, the distribution is uniform(0,1)\n",
    "np.random.rand(2,2,2,2)"
   ]
  },
  {
   "cell_type": "code",
   "execution_count": 24,
   "metadata": {},
   "outputs": [
    {
     "data": {
      "text/plain": [
       "array([[9, 0],\n",
       "       [6, 0]])"
      ]
     },
     "execution_count": 24,
     "metadata": {},
     "output_type": "execute_result"
    }
   ],
   "source": [
    "# allows the user to specify range and size\n",
    "np.random.randint(0,10,size=(2,2))"
   ]
  },
  {
   "cell_type": "code",
   "execution_count": 19,
   "metadata": {},
   "outputs": [
    {
     "data": {
      "text/plain": [
       "array([1, 3, 5, 7, 9])"
      ]
     },
     "execution_count": 19,
     "metadata": {},
     "output_type": "execute_result"
    }
   ],
   "source": [
    "np.arange(1,10,2)"
   ]
  },
  {
   "cell_type": "code",
   "execution_count": 18,
   "metadata": {},
   "outputs": [
    {
     "data": {
      "text/plain": [
       "array([2.        , 2.28571429, 2.57142857, 2.85714286, 3.14285714,\n",
       "       3.42857143, 3.71428571, 4.        ])"
      ]
     },
     "execution_count": 18,
     "metadata": {},
     "output_type": "execute_result"
    }
   ],
   "source": [
    "np.linspace(2,4,8)"
   ]
  },
  {
   "cell_type": "markdown",
   "metadata": {},
   "source": [
    "### 3. Access"
   ]
  },
  {
   "cell_type": "code",
   "execution_count": 33,
   "metadata": {},
   "outputs": [],
   "source": [
    "d = np.random.rand(10,10)"
   ]
  },
  {
   "cell_type": "code",
   "execution_count": 36,
   "metadata": {},
   "outputs": [
    {
     "data": {
      "text/plain": [
       "array([[0.35972231, 0.15258922, 0.69425874, 0.96109249, 0.90760117,\n",
       "        0.72961592, 0.67162372, 0.17809728, 0.7009859 , 0.48848933],\n",
       "       [0.29762481, 0.09921372, 0.17757025, 0.36539436, 0.84495415,\n",
       "        0.31729975, 0.41584211, 0.79297453, 0.18345275, 0.76039079],\n",
       "       [0.91062412, 0.20315276, 0.25346568, 0.72854863, 0.51926295,\n",
       "        0.58131829, 0.88008952, 0.96232768, 0.85181196, 0.57276941],\n",
       "       [0.89510403, 0.34491896, 0.9073245 , 0.69231032, 0.01930403,\n",
       "        0.13406048, 0.12630522, 0.81668553, 0.86414306, 0.33310459],\n",
       "       [0.87936894, 0.17034617, 0.84684245, 0.8490861 , 0.5797942 ,\n",
       "        0.98518158, 0.33529097, 0.87018835, 0.81055071, 0.0990761 ],\n",
       "       [0.04457081, 0.11690122, 0.79744802, 0.29318921, 0.11178656,\n",
       "        0.07528277, 0.97378249, 0.96274012, 0.01156743, 0.18121844],\n",
       "       [0.52081969, 0.71757139, 0.84804928, 0.02563839, 0.55370346,\n",
       "        0.89172239, 0.97628902, 0.50971472, 0.77637488, 0.15650307],\n",
       "       [0.51996588, 0.53074958, 0.44107801, 0.63537732, 0.07624147,\n",
       "        0.14060211, 0.62458815, 0.80583117, 0.67287284, 0.66944404],\n",
       "       [0.74024636, 0.10162436, 0.67073922, 0.52472818, 0.66148296,\n",
       "        0.89373562, 0.42925447, 0.90127988, 0.87882768, 0.95118358],\n",
       "       [0.86472646, 0.82420017, 0.94963274, 0.06385939, 0.55290709,\n",
       "        0.31217475, 0.49101495, 0.41585128, 0.08118529, 0.10371719]])"
      ]
     },
     "execution_count": 36,
     "metadata": {},
     "output_type": "execute_result"
    }
   ],
   "source": [
    "d[:,:]"
   ]
  },
  {
   "cell_type": "code",
   "execution_count": 38,
   "metadata": {},
   "outputs": [
    {
     "data": {
      "text/plain": [
       "array([0.15258922, 0.09921372, 0.20315276, 0.34491896, 0.17034617,\n",
       "       0.11690122, 0.71757139, 0.53074958, 0.10162436, 0.82420017])"
      ]
     },
     "execution_count": 38,
     "metadata": {},
     "output_type": "execute_result"
    }
   ],
   "source": [
    "d[:,1]"
   ]
  },
  {
   "cell_type": "code",
   "execution_count": 39,
   "metadata": {},
   "outputs": [
    {
     "data": {
      "text/plain": [
       "array([[0.35972231, 0.15258922],\n",
       "       [0.29762481, 0.09921372],\n",
       "       [0.91062412, 0.20315276],\n",
       "       [0.89510403, 0.34491896],\n",
       "       [0.87936894, 0.17034617],\n",
       "       [0.04457081, 0.11690122],\n",
       "       [0.52081969, 0.71757139],\n",
       "       [0.51996588, 0.53074958],\n",
       "       [0.74024636, 0.10162436],\n",
       "       [0.86472646, 0.82420017]])"
      ]
     },
     "execution_count": 39,
     "metadata": {},
     "output_type": "execute_result"
    }
   ],
   "source": [
    "d[:,:2]"
   ]
  },
  {
   "cell_type": "code",
   "execution_count": 40,
   "metadata": {},
   "outputs": [
    {
     "data": {
      "text/plain": [
       "array([[0.69425874, 0.96109249],\n",
       "       [0.17757025, 0.36539436]])"
      ]
     },
     "execution_count": 40,
     "metadata": {},
     "output_type": "execute_result"
    }
   ],
   "source": [
    "d[:2,2:4]"
   ]
  },
  {
   "cell_type": "markdown",
   "metadata": {},
   "source": [
    "### 4. Splitting"
   ]
  },
  {
   "cell_type": "markdown",
   "metadata": {},
   "source": [
    "Splits array into subarrays.\n",
    "\n",
    "- axis=0 means vertical\n",
    "- axis=1 means horizontal\n",
    "- split: splits the array based on the provided axis\n",
    "- hsplit: splits the horizontal axis\n",
    "- vsplit: splits the vertical axis"
   ]
  },
  {
   "cell_type": "code",
   "execution_count": 68,
   "metadata": {},
   "outputs": [
    {
     "data": {
      "text/plain": [
       "array([[0.73734083, 0.09937664, 0.86569589, 0.18586836],\n",
       "       [0.26556984, 0.3619676 , 0.55532087, 0.81117646],\n",
       "       [0.78964541, 0.96544566, 0.49593787, 0.84101427],\n",
       "       [0.49533931, 0.53737861, 0.08058059, 0.35095725]])"
      ]
     },
     "execution_count": 68,
     "metadata": {},
     "output_type": "execute_result"
    }
   ],
   "source": [
    "d = np.random.rand(4,4)\n",
    "d"
   ]
  },
  {
   "cell_type": "code",
   "execution_count": 69,
   "metadata": {},
   "outputs": [
    {
     "data": {
      "text/plain": [
       "[array([[0.73734083, 0.09937664, 0.86569589, 0.18586836]]),\n",
       " array([[0.26556984, 0.3619676 , 0.55532087, 0.81117646]]),\n",
       " array([[0.78964541, 0.96544566, 0.49593787, 0.84101427]]),\n",
       " array([[0.49533931, 0.53737861, 0.08058059, 0.35095725]])]"
      ]
     },
     "execution_count": 69,
     "metadata": {},
     "output_type": "execute_result"
    }
   ],
   "source": [
    "np.split(d,4,axis=0)"
   ]
  },
  {
   "cell_type": "code",
   "execution_count": 74,
   "metadata": {
    "scrolled": true
   },
   "outputs": [
    {
     "data": {
      "text/plain": [
       "[array([[0.73734083, 0.09937664, 0.86569589, 0.18586836],\n",
       "        [0.26556984, 0.3619676 , 0.55532087, 0.81117646]]),\n",
       " array([[0.78964541, 0.96544566, 0.49593787, 0.84101427],\n",
       "        [0.49533931, 0.53737861, 0.08058059, 0.35095725]])]"
      ]
     },
     "execution_count": 74,
     "metadata": {},
     "output_type": "execute_result"
    }
   ],
   "source": [
    "np.vsplit(d,[2])"
   ]
  },
  {
   "cell_type": "code",
   "execution_count": 76,
   "metadata": {},
   "outputs": [
    {
     "data": {
      "text/plain": [
       "[array([[0.73734083],\n",
       "        [0.26556984],\n",
       "        [0.78964541],\n",
       "        [0.49533931]]), array([[0.09937664],\n",
       "        [0.3619676 ],\n",
       "        [0.96544566],\n",
       "        [0.53737861]]), array([[0.86569589],\n",
       "        [0.55532087],\n",
       "        [0.49593787],\n",
       "        [0.08058059]]), array([[0.18586836],\n",
       "        [0.81117646],\n",
       "        [0.84101427],\n",
       "        [0.35095725]])]"
      ]
     },
     "execution_count": 76,
     "metadata": {},
     "output_type": "execute_result"
    }
   ],
   "source": [
    "np.hsplit(d,[1,2,3])"
   ]
  },
  {
   "cell_type": "markdown",
   "metadata": {},
   "source": [
    "### 5. Concatenation\n",
    "\n",
    "For any of these operations to work, the joining edge must have the same size.\n",
    "\n",
    "- axis=0 means vertical\n",
    "- axis=1 means horizontal\n",
    "- concatenate: join numpy array along the provided axis\n",
    "- hstack: joining numpy array horizontally\n",
    "- vstack: joining numpy array vertically"
   ]
  },
  {
   "cell_type": "code",
   "execution_count": 43,
   "metadata": {},
   "outputs": [],
   "source": [
    "a = np.zeros((2,3))\n",
    "b = np.ones((2,2))\n",
    "c = np.empty((1,3))"
   ]
  },
  {
   "cell_type": "code",
   "execution_count": 47,
   "metadata": {},
   "outputs": [
    {
     "data": {
      "text/plain": [
       "array([[0., 0., 0., 1., 1.],\n",
       "       [0., 0., 0., 1., 1.]])"
      ]
     },
     "execution_count": 47,
     "metadata": {},
     "output_type": "execute_result"
    }
   ],
   "source": [
    "np.concatenate([a,b],axis=1)"
   ]
  },
  {
   "cell_type": "code",
   "execution_count": 51,
   "metadata": {},
   "outputs": [
    {
     "data": {
      "text/plain": [
       "array([[0., 0., 0., 1., 1.],\n",
       "       [0., 0., 0., 1., 1.]])"
      ]
     },
     "execution_count": 51,
     "metadata": {},
     "output_type": "execute_result"
    }
   ],
   "source": [
    "np.hstack([a,b])"
   ]
  },
  {
   "cell_type": "code",
   "execution_count": 48,
   "metadata": {},
   "outputs": [
    {
     "data": {
      "text/plain": [
       "array([[0.0e+000, 0.0e+000, 0.0e+000],\n",
       "       [0.0e+000, 0.0e+000, 0.0e+000],\n",
       "       [4.9e-324, 9.9e-324, 1.5e-323]])"
      ]
     },
     "execution_count": 48,
     "metadata": {},
     "output_type": "execute_result"
    }
   ],
   "source": [
    "np.concatenate([a,c],axis=0)"
   ]
  },
  {
   "cell_type": "code",
   "execution_count": 52,
   "metadata": {},
   "outputs": [
    {
     "data": {
      "text/plain": [
       "array([[0.0e+000, 0.0e+000, 0.0e+000],\n",
       "       [0.0e+000, 0.0e+000, 0.0e+000],\n",
       "       [4.9e-324, 9.9e-324, 1.5e-323]])"
      ]
     },
     "execution_count": 52,
     "metadata": {},
     "output_type": "execute_result"
    }
   ],
   "source": [
    "np.vstack([a,c])"
   ]
  },
  {
   "cell_type": "markdown",
   "metadata": {},
   "source": [
    "### 6. Dimension, Shape, and Size"
   ]
  },
  {
   "cell_type": "code",
   "execution_count": 77,
   "metadata": {},
   "outputs": [
    {
     "data": {
      "text/plain": [
       "2"
      ]
     },
     "execution_count": 77,
     "metadata": {},
     "output_type": "execute_result"
    }
   ],
   "source": [
    "d.ndim"
   ]
  },
  {
   "cell_type": "code",
   "execution_count": 78,
   "metadata": {},
   "outputs": [
    {
     "data": {
      "text/plain": [
       "(4, 4)"
      ]
     },
     "execution_count": 78,
     "metadata": {},
     "output_type": "execute_result"
    }
   ],
   "source": [
    "d.shape"
   ]
  },
  {
   "cell_type": "code",
   "execution_count": 79,
   "metadata": {},
   "outputs": [
    {
     "data": {
      "text/plain": [
       "16"
      ]
     },
     "execution_count": 79,
     "metadata": {},
     "output_type": "execute_result"
    }
   ],
   "source": [
    "d.size"
   ]
  },
  {
   "cell_type": "markdown",
   "metadata": {},
   "source": [
    "### 7. Reshaping\n",
    "\n",
    "- Learning algorithms expects data in certain shape & dimension\n",
    "- We can use the reshaping utility converts data into a desried shape\n",
    "- Size of the array need to be consistent\n",
    "- -1 means calculating the right number based on the other dimension metric"
   ]
  },
  {
   "cell_type": "code",
   "execution_count": 81,
   "metadata": {},
   "outputs": [],
   "source": [
    "a = np.arange(0,6)"
   ]
  },
  {
   "cell_type": "code",
   "execution_count": 82,
   "metadata": {},
   "outputs": [
    {
     "data": {
      "text/plain": [
       "array([[0, 1, 2],\n",
       "       [3, 4, 5]])"
      ]
     },
     "execution_count": 82,
     "metadata": {},
     "output_type": "execute_result"
    }
   ],
   "source": [
    "a.reshape(-1,3)"
   ]
  },
  {
   "cell_type": "code",
   "execution_count": 84,
   "metadata": {},
   "outputs": [
    {
     "data": {
      "text/plain": [
       "array([[0, 1],\n",
       "       [2, 3],\n",
       "       [4, 5]])"
      ]
     },
     "execution_count": 84,
     "metadata": {},
     "output_type": "execute_result"
    }
   ],
   "source": [
    "a.reshape(3,-1)"
   ]
  },
  {
   "cell_type": "code",
   "execution_count": 88,
   "metadata": {},
   "outputs": [
    {
     "data": {
      "text/plain": [
       "(3, 2)"
      ]
     },
     "execution_count": 88,
     "metadata": {},
     "output_type": "execute_result"
    }
   ],
   "source": [
    "b = np.arange(0,6).reshape(3,-1)\n",
    "b.shape"
   ]
  },
  {
   "cell_type": "code",
   "execution_count": 89,
   "metadata": {},
   "outputs": [
    {
     "data": {
      "text/plain": [
       "array([[0, 1, 2],\n",
       "       [3, 4, 5]])"
      ]
     },
     "execution_count": 89,
     "metadata": {},
     "output_type": "execute_result"
    }
   ],
   "source": [
    "b.reshape(-1,3)"
   ]
  },
  {
   "cell_type": "markdown",
   "metadata": {},
   "source": [
    "### 8. Utility Functions\n",
    "\n",
    "Some examples are:\n",
    "\n",
    "- max\n",
    "- min\n",
    "- sum\n",
    "- mean\n",
    "- std\n",
    "- cov\n",
    "- all\n",
    "- any\n",
    "- dot\n",
    "- multiply\n",
    "- sqrt"
   ]
  },
  {
   "cell_type": "code",
   "execution_count": 90,
   "metadata": {},
   "outputs": [],
   "source": [
    "a = np.arange(1,5)"
   ]
  },
  {
   "cell_type": "code",
   "execution_count": 93,
   "metadata": {},
   "outputs": [
    {
     "data": {
      "text/plain": [
       "10"
      ]
     },
     "execution_count": 93,
     "metadata": {},
     "output_type": "execute_result"
    }
   ],
   "source": [
    "np.sum(a)"
   ]
  },
  {
   "cell_type": "code",
   "execution_count": 94,
   "metadata": {},
   "outputs": [
    {
     "data": {
      "text/plain": [
       "10"
      ]
     },
     "execution_count": 94,
     "metadata": {},
     "output_type": "execute_result"
    }
   ],
   "source": [
    "a.sum()"
   ]
  },
  {
   "cell_type": "code",
   "execution_count": 97,
   "metadata": {},
   "outputs": [],
   "source": [
    "a = a.reshape(-1,2)"
   ]
  },
  {
   "cell_type": "code",
   "execution_count": 98,
   "metadata": {},
   "outputs": [
    {
     "data": {
      "text/plain": [
       "2.5"
      ]
     },
     "execution_count": 98,
     "metadata": {},
     "output_type": "execute_result"
    }
   ],
   "source": [
    "a.mean()"
   ]
  },
  {
   "cell_type": "code",
   "execution_count": 99,
   "metadata": {},
   "outputs": [
    {
     "data": {
      "text/plain": [
       "array([1.5, 3.5])"
      ]
     },
     "execution_count": 99,
     "metadata": {},
     "output_type": "execute_result"
    }
   ],
   "source": [
    "a.mean(axis=1)"
   ]
  },
  {
   "cell_type": "markdown",
   "metadata": {},
   "source": [
    "### 9. Broadcasting\n",
    "\n",
    "- Single row matrix are known as vectors\n",
    "- Broadcasting is a technique that uses numpy to do mathematical computation on data of different shapes and dimension\n",
    "- Reshaping is sometimes nedded to enable broadcasting"
   ]
  },
  {
   "cell_type": "code",
   "execution_count": 100,
   "metadata": {},
   "outputs": [],
   "source": [
    "a = np.array([1,2,3])"
   ]
  },
  {
   "cell_type": "code",
   "execution_count": 101,
   "metadata": {},
   "outputs": [
    {
     "data": {
      "text/plain": [
       "array([2, 4, 6])"
      ]
     },
     "execution_count": 101,
     "metadata": {},
     "output_type": "execute_result"
    }
   ],
   "source": [
    "a+a"
   ]
  },
  {
   "cell_type": "code",
   "execution_count": 102,
   "metadata": {},
   "outputs": [
    {
     "data": {
      "text/plain": [
       "array([2, 3, 4])"
      ]
     },
     "execution_count": 102,
     "metadata": {},
     "output_type": "execute_result"
    }
   ],
   "source": [
    "a+1"
   ]
  },
  {
   "cell_type": "code",
   "execution_count": 111,
   "metadata": {},
   "outputs": [
    {
     "data": {
      "text/plain": [
       "array([[2, 3, 4],\n",
       "       [3, 4, 5],\n",
       "       [4, 5, 6]])"
      ]
     },
     "execution_count": 111,
     "metadata": {},
     "output_type": "execute_result"
    }
   ],
   "source": [
    "a.reshape(3,1)+a"
   ]
  },
  {
   "cell_type": "code",
   "execution_count": 109,
   "metadata": {},
   "outputs": [],
   "source": [
    "b = np.zeros(4).reshape(2,2)"
   ]
  },
  {
   "cell_type": "code",
   "execution_count": 110,
   "metadata": {},
   "outputs": [
    {
     "data": {
      "text/plain": [
       "array([[0., 1.],\n",
       "       [0., 1.]])"
      ]
     },
     "execution_count": 110,
     "metadata": {},
     "output_type": "execute_result"
    }
   ],
   "source": [
    "b + np.arange(2)"
   ]
  }
 ],
 "metadata": {
  "kernelspec": {
   "display_name": "Python 3",
   "language": "python",
   "name": "python3"
  },
  "language_info": {
   "codemirror_mode": {
    "name": "ipython",
    "version": 3
   },
   "file_extension": ".py",
   "mimetype": "text/x-python",
   "name": "python",
   "nbconvert_exporter": "python",
   "pygments_lexer": "ipython3",
   "version": "3.6.8"
  }
 },
 "nbformat": 4,
 "nbformat_minor": 2
}
